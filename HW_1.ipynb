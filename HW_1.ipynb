{
  "nbformat": 4,
  "nbformat_minor": 0,
  "metadata": {
    "colab": {
      "provenance": [],
      "authorship_tag": "ABX9TyNmp23LfN69LN5wuwxakIcn",
      "include_colab_link": true
    },
    "kernelspec": {
      "name": "python3",
      "display_name": "Python 3"
    },
    "language_info": {
      "name": "python"
    }
  },
  "cells": [
    {
      "cell_type": "markdown",
      "metadata": {
        "id": "view-in-github",
        "colab_type": "text"
      },
      "source": [
        "<a href=\"https://colab.research.google.com/github/CSC-122/lab7-substitution-cipher-Jennalsch/blob/main/HW_1.ipynb\" target=\"_parent\"><img src=\"https://colab.research.google.com/assets/colab-badge.svg\" alt=\"Open In Colab\"/></a>"
      ]
    },
    {
      "cell_type": "code",
      "execution_count": 2,
      "metadata": {
        "id": "cWww7-nM5cd7"
      },
      "outputs": [],
      "source": [
        "import pandas as pd\n",
        "data = pd.read_csv('/content/drive/MyDrive/DATA/olympic_medals.csv')"
      ]
    },
    {
      "cell_type": "code",
      "source": [
        "rows, columns = data.shape\n",
        "print(f\"Rows: {rows}, Columns: {columns}\")"
      ],
      "metadata": {
        "colab": {
          "base_uri": "https://localhost:8080/"
        },
        "id": "8LS_WsPqKnZo",
        "outputId": "b516980f-e8ee-4b75-8017-0d5e35b6b17f"
      },
      "execution_count": 5,
      "outputs": [
        {
          "output_type": "stream",
          "name": "stdout",
          "text": [
            "Rows: 2394, Columns: 8\n"
          ]
        }
      ]
    },
    {
      "cell_type": "code",
      "source": [
        "print(data.dtypes)"
      ],
      "metadata": {
        "colab": {
          "base_uri": "https://localhost:8080/"
        },
        "id": "DacQW2S9SVm1",
        "outputId": "e3abec5b-e53a-431e-c200-d6784f85376a"
      },
      "execution_count": 6,
      "outputs": [
        {
          "output_type": "stream",
          "name": "stdout",
          "text": [
            "Gender         object\n",
            "Event          object\n",
            "Location       object\n",
            "Year            int64\n",
            "Medal          object\n",
            "Name           object\n",
            "Nationality    object\n",
            "Result         object\n",
            "dtype: object\n"
          ]
        }
      ]
    },
    {
      "cell_type": "code",
      "source": [
        "if 'City' in data.columns:\n",
        "    unique_cities = data['City'].nunique()\n",
        "    print(f\"Unique cities:{unique_cities}\")\n",
        "else:\n",
        "    print(\"Column 'City' does not exist in the DataFrame.\")"
      ],
      "metadata": {
        "colab": {
          "base_uri": "https://localhost:8080/"
        },
        "id": "jVbcOqABUEiG",
        "outputId": "b31486dd-7a29-4e7e-9743-5a14140b70f6"
      },
      "execution_count": 15,
      "outputs": [
        {
          "output_type": "stream",
          "name": "stdout",
          "text": [
            "Column 'City' does not exist in the DataFrame.\n"
          ]
        }
      ]
    },
    {
      "cell_type": "code",
      "source": [
        "if 'City' in data.columns:\n",
        "    unique_cities = data['City'].unique()\n",
        "    num_unique_cities = len(unique_cities)\n",
        "    print(f\"Unique cities: {num_unique_cities}\")\n",
        "else:\n",
        "    print(\"Column 'City' does not exist in the DataFrame.\")"
      ],
      "metadata": {
        "colab": {
          "base_uri": "https://localhost:8080/"
        },
        "id": "j0jrh0sFhfzP",
        "outputId": "986c0037-57af-4718-a0b7-8c1b3762f8c3"
      },
      "execution_count": 35,
      "outputs": [
        {
          "output_type": "stream",
          "name": "stdout",
          "text": [
            "Column 'City' does not exist in the DataFrame.\n"
          ]
        }
      ]
    },
    {
      "cell_type": "code",
      "source": [
        "if 'Nationality' in data.columns:\n",
        "    usa_medals = data[data['Nationality'] == 'USA']\n",
        "    num_usa_medals = usa_medals.shape[0]\n",
        "    print(f\"Number of medals won by USA team: {num_usa_medal}\")\n",
        "else:\n",
        "    print(\"Column 'Nationality' does not exist in the DataFrame.\")"
      ],
      "metadata": {
        "colab": {
          "base_uri": "https://localhost:8080/",
          "height": 211
        },
        "id": "tV15hDJZipAK",
        "outputId": "a46bf99f-d268-4a1e-a68f-3fae58b9442e"
      },
      "execution_count": 36,
      "outputs": [
        {
          "output_type": "error",
          "ename": "NameError",
          "evalue": "name 'num_usa_medal' is not defined",
          "traceback": [
            "\u001b[0;31m---------------------------------------------------------------------------\u001b[0m",
            "\u001b[0;31mNameError\u001b[0m                                 Traceback (most recent call last)",
            "\u001b[0;32m<ipython-input-36-4d259c1a0814>\u001b[0m in \u001b[0;36m<cell line: 1>\u001b[0;34m()\u001b[0m\n\u001b[1;32m      2\u001b[0m     \u001b[0musa_medals\u001b[0m \u001b[0;34m=\u001b[0m \u001b[0mdata\u001b[0m\u001b[0;34m[\u001b[0m\u001b[0mdata\u001b[0m\u001b[0;34m[\u001b[0m\u001b[0;34m'Nationality'\u001b[0m\u001b[0;34m]\u001b[0m \u001b[0;34m==\u001b[0m \u001b[0;34m'USA'\u001b[0m\u001b[0;34m]\u001b[0m\u001b[0;34m\u001b[0m\u001b[0;34m\u001b[0m\u001b[0m\n\u001b[1;32m      3\u001b[0m     \u001b[0mnum_usa_medals\u001b[0m \u001b[0;34m=\u001b[0m \u001b[0musa_medals\u001b[0m\u001b[0;34m.\u001b[0m\u001b[0mshape\u001b[0m\u001b[0;34m[\u001b[0m\u001b[0;36m0\u001b[0m\u001b[0;34m]\u001b[0m\u001b[0;34m\u001b[0m\u001b[0;34m\u001b[0m\u001b[0m\n\u001b[0;32m----> 4\u001b[0;31m     \u001b[0mprint\u001b[0m\u001b[0;34m(\u001b[0m\u001b[0;34mf\"Number of medals won by USA team: {num_usa_medal}\"\u001b[0m\u001b[0;34m)\u001b[0m\u001b[0;34m\u001b[0m\u001b[0;34m\u001b[0m\u001b[0m\n\u001b[0m\u001b[1;32m      5\u001b[0m \u001b[0;32melse\u001b[0m\u001b[0;34m:\u001b[0m\u001b[0;34m\u001b[0m\u001b[0;34m\u001b[0m\u001b[0m\n\u001b[1;32m      6\u001b[0m     \u001b[0mprint\u001b[0m\u001b[0;34m(\u001b[0m\u001b[0;34m\"Column 'Nationality' does not exist in the DataFrame.\"\u001b[0m\u001b[0;34m)\u001b[0m\u001b[0;34m\u001b[0m\u001b[0;34m\u001b[0m\u001b[0m\n",
            "\u001b[0;31mNameError\u001b[0m: name 'num_usa_medal' is not defined"
          ]
        }
      ]
    },
    {
      "cell_type": "code",
      "source": [
        "if 'Nationality' in data.columns and 'Medal' in data.columns:\n",
        "    medals_by_nationality = data.groupby(by='Nationality')['Medal'].count()\n",
        "    print(medals_by_nationality)\n",
        "else:\n",
        "    print(\"Required columns for calculating medals by nationality are not present in the DataFrame.\")"
      ],
      "metadata": {
        "colab": {
          "base_uri": "https://localhost:8080/"
        },
        "id": "KtghYImDlZv3",
        "outputId": "1211500c-0498-407f-da8c-19df7c70a91b"
      },
      "execution_count": 33,
      "outputs": [
        {
          "output_type": "stream",
          "name": "stdout",
          "text": [
            "Nationality\n",
            "ALG      9\n",
            "ARG      4\n",
            "AUS     57\n",
            "AUT      4\n",
            "BAH     12\n",
            "      ... \n",
            "URS    131\n",
            "USA    638\n",
            "VEN      2\n",
            "YUG      1\n",
            "ZAM      1\n",
            "Name: Medal, Length: 97, dtype: int64\n"
          ]
        }
      ]
    }
  ]
}